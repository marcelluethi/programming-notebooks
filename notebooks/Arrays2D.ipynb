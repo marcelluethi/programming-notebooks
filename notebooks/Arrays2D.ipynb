{
 "cells": [
  {
   "cell_type": "markdown",
   "metadata": {},
   "source": [
    "# Mehrdimensionale Arrays"
   ]
  },
  {
   "cell_type": "markdown",
   "metadata": {},
   "source": [
    "In diesem, sehr kurzen Notebook haben Sie die Möglichkeit mit mehrdimensionalen Arrays zu experimentieren. Speziell zweidimensionale Arrays kommen in der Anwendung häufig vor. Ein Beispiel aus der Mathematik sind Matrizen.\n",
    "Diese können einfach mit 2D-Arrays vom Typ double repräsentiert werden:"
   ]
  },
  {
   "cell_type": "code",
   "execution_count": 34,
   "metadata": {},
   "outputs": [
    {
     "data": {
      "text/plain": [
       "null"
      ]
     },
     "execution_count": 34,
     "metadata": {},
     "output_type": "execute_result"
    }
   ],
   "source": [
    "double[][] matrix = new double[3][3];"
   ]
  },
  {
   "cell_type": "markdown",
   "metadata": {},
   "source": [
    "Bevor wir uns Beispiele anschauen, brauchen wir auch wieder eine Methode um Arrays auszugeben. Die folgende Methode nimmt ein 2D Array als Argument entgegen und gibt dieses Zeilenweise aus."
   ]
  },
  {
   "cell_type": "code",
   "execution_count": 35,
   "metadata": {},
   "outputs": [
    {
     "data": {
      "text/plain": [
       "com.twosigma.beaker.javash.bkr4c78bc5f.ArrayHelper"
      ]
     },
     "execution_count": 35,
     "metadata": {},
     "output_type": "execute_result"
    }
   ],
   "source": [
    "class ArrayHelper {\n",
    "    static void print2DArray(double[][] a) {\n",
    "       for (int i = 0; i < a.length; i++) {\n",
    "            for (int j = 0; j < a[i].length; j++) {\n",
    "                System.out.print(a[i][j]);\n",
    "                System.out.print(\" \");\n",
    "            }\n",
    "           System.out.println(\"\");\n",
    "        }\n",
    "    }\n",
    "}"
   ]
  },
  {
   "cell_type": "markdown",
   "metadata": {},
   "source": [
    "Wir können uns nun ein zweidimensionales Array erstellen und dieses ausgeben."
   ]
  },
  {
   "cell_type": "code",
   "execution_count": 36,
   "metadata": {},
   "outputs": [
    {
     "name": "stdout",
     "output_type": "stream",
     "text": [
      "0.0 0.0 0.0 \n",
      "0.0 0.0 0.0 \n",
      "0.0 0.0 0.0 \n"
     ]
    },
    {
     "data": {
      "text/plain": [
       "null"
      ]
     },
     "execution_count": 36,
     "metadata": {},
     "output_type": "execute_result"
    }
   ],
   "source": [
    "double[][] a = new double[3][3];\n",
    "\n",
    "ArrayHelper.print2DArray(a);"
   ]
  },
  {
   "cell_type": "markdown",
   "metadata": {},
   "source": [
    "#### Miniübung:\n",
    "* Erstellen Sie ein Array vom Typ ```double[][]```, welche auf der Diagonalen einsen und ansonsten Nullen hat (Sie können dies als Einheitsmatrix interpretieren).\n",
    "* Erstellen Sie ein zweidimensionales Array, für welches folgendes gilt: ```a[i].length = i``` wobei ```i``` ein ganzzahliger Index ist, welcher von ```0``` bis ```9``` läuft.\n",
    "* Implementieren Sie eine Methode ```matrixVectorProduct``` die eine Matrix (Typ ```double[][]```) mit einem Vector (Typ ```double[]```) multipliziert und das Ergebnis zurückgibt."
   ]
  },
  {
   "cell_type": "code",
   "execution_count": 37,
   "metadata": {},
   "outputs": [
    {
     "name": "stdout",
     "output_type": "stream",
     "text": [
      "1.0 0.0 0.0 0.0 0.0 \n",
      "0.0 1.0 0.0 0.0 0.0 \n",
      "0.0 0.0 1.0 0.0 0.0 \n",
      "0.0 0.0 0.0 1.0 0.0 \n",
      "0.0 0.0 0.0 0.0 1.0 \n"
     ]
    },
    {
     "data": {
      "text/plain": [
       "null"
      ]
     },
     "execution_count": 37,
     "metadata": {},
     "output_type": "execute_result"
    }
   ],
   "source": [
    "// Ihre Lösung\n",
    "double[][] ident = new double[5][5];\n",
    "for (int i = 0; i < ident.length; i++) {\n",
    "    ident[i][i] = 1;\n",
    "}\n",
    "ArrayHelper.print2DArray(ident);"
   ]
  },
  {
   "cell_type": "code",
   "execution_count": 38,
   "metadata": {},
   "outputs": [
    {
     "name": "stdout",
     "output_type": "stream",
     "text": [
      "\n",
      "0.0 \n",
      "0.0 0.0 \n",
      "0.0 0.0 0.0 \n",
      "0.0 0.0 0.0 0.0 \n",
      "0.0 0.0 0.0 0.0 0.0 \n",
      "0.0 0.0 0.0 0.0 0.0 0.0 \n",
      "0.0 0.0 0.0 0.0 0.0 0.0 0.0 \n",
      "0.0 0.0 0.0 0.0 0.0 0.0 0.0 0.0 \n",
      "0.0 0.0 0.0 0.0 0.0 0.0 0.0 0.0 0.0 \n"
     ]
    },
    {
     "data": {
      "text/plain": [
       "null"
      ]
     },
     "execution_count": 38,
     "metadata": {},
     "output_type": "execute_result"
    }
   ],
   "source": [
    "double[][] a = new double[10][];\n",
    "for (int i = 0; i < 10; i++) {\n",
    "    a[i] = new double[i];\n",
    "}\n",
    "\n",
    "ArrayHelper.print2DArray(a);\n",
    "\n"
   ]
  },
  {
   "cell_type": "code",
   "execution_count": 40,
   "metadata": {},
   "outputs": [
    {
     "data": {
      "text/plain": [
       "com.twosigma.beaker.javash.bkr4c78bc5f.MatOps"
      ]
     },
     "execution_count": 40,
     "metadata": {},
     "output_type": "execute_result"
    }
   ],
   "source": [
    "// Ihre Lösung\n",
    "class MatOps {\n",
    "    static double[] matrixVectorProduct(double[][] matrix, double[] vector) {\n",
    "        int m = matrix.length;\n",
    "        int n = matrix[0].length;\n",
    "\n",
    "        double[] r = new double[m];\n",
    "        for (int i = 0; i < m; i++) {\n",
    "            for (int j = 0; j < n; j++) {\n",
    "                r[i] += vector[j] *matrix[i][j];\n",
    "            }\n",
    "        }\n",
    "        return r;\n",
    "    }\n",
    "}"
   ]
  },
  {
   "cell_type": "code",
   "execution_count": 41,
   "metadata": {},
   "outputs": [
    {
     "name": "stdout",
     "output_type": "stream",
     "text": [
      "3.0\n",
      "6.0\n",
      "9.0\n"
     ]
    },
    {
     "data": {
      "text/plain": [
       "null"
      ]
     },
     "execution_count": 41,
     "metadata": {},
     "output_type": "execute_result"
    }
   ],
   "source": [
    "double[] v = {1,2};\n",
    "double[][] mat = {{1,1}, {2,2}, {3, 3}};\n",
    "double[] r = MatOps.matrixVectorProduct(mat, v);\n",
    "for (int i = 0; i < r.length; i++) {\n",
    "    System.out.println(r[i]);\n",
    "}"
   ]
  },
  {
   "cell_type": "code",
   "execution_count": null,
   "metadata": {},
   "outputs": [],
   "source": []
  }
 ],
 "metadata": {
  "kernelspec": {
   "display_name": "Java",
   "language": "java",
   "name": "java"
  },
  "language_info": {
   "codemirror_mode": "text/x-java",
   "file_extension": ".java",
   "mimetype": "",
   "name": "Java",
   "nbconverter_exporter": "",
   "version": "1.8.0_121"
  },
  "toc": {
   "base_numbering": 1,
   "nav_menu": {},
   "number_sections": false,
   "sideBar": false,
   "skip_h1_title": false,
   "title_cell": "Table of Contents",
   "title_sidebar": "Contents",
   "toc_cell": false,
   "toc_position": {},
   "toc_section_display": false,
   "toc_window_display": false
  }
 },
 "nbformat": 4,
 "nbformat_minor": 2
}
