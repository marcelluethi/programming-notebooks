{
 "cells": [
  {
   "cell_type": "markdown",
   "metadata": {},
   "source": [
    "# Arrays"
   ]
  },
  {
   "cell_type": "markdown",
   "metadata": {},
   "source": [
    "### Arrays als Referenzobjekte"
   ]
  },
  {
   "cell_type": "markdown",
   "metadata": {},
   "source": [
    "Wie wir in der Vorlesung gesehen haben, unterscheidet sich das Verhalten von Arrays von dem von den primitiven Datentypen wie ```int``` und ```char```. Im folgenden werden wir dieses Verhalten veranschaulichen. \n",
    "\n",
    "Wir definieren uns ein einfaches Array von Integern und möchten dieses ausgeben."
   ]
  },
  {
   "cell_type": "code",
   "execution_count": 1,
   "metadata": {},
   "outputs": [
    {
     "name": "stdout",
     "output_type": "stream",
     "text": [
      "[I@17b739fb\n"
     ]
    },
    {
     "data": {
      "text/plain": [
       "null"
      ]
     },
     "execution_count": 1,
     "metadata": {},
     "output_type": "execute_result"
    }
   ],
   "source": [
    "int[] a = {1, 2, 3, 4, 5};\n",
    "System.out.println(a);"
   ]
  },
  {
   "cell_type": "markdown",
   "metadata": {},
   "source": [
    "Wir sehen, dass nicht der Inhalt ausgegeben wird, sondern eine unleserliche Zahl. Diese entspricht dem *hashCode* des Objekts und sollte das Array eindeutig identifizieren. "
   ]
  },
  {
   "cell_type": "markdown",
   "metadata": {},
   "source": [
    "Wenn wir am Inhalt interessiert sind müssen wir uns also zuerst eine Hilfsmethode schreiben:"
   ]
  },
  {
   "cell_type": "code",
   "execution_count": 2,
   "metadata": {},
   "outputs": [
    {
     "data": {
      "text/plain": [
       "com.twosigma.beaker.javash.bkr2c9bec44.ArrayHelpers"
      ]
     },
     "execution_count": 2,
     "metadata": {},
     "output_type": "execute_result"
    }
   ],
   "source": [
    "class ArrayHelpers {\n",
    "    static void printArray(int[] a) { \n",
    "        System.out.print(\"[\");\n",
    "        for (int i = 0; i < a.length; i++) {\n",
    "            System.out.print(a[i]);\n",
    "            System.out.print(\" \");\n",
    "        }\n",
    "        System.out.println(\"]\");\n",
    "    }\n",
    "}"
   ]
  },
  {
   "cell_type": "markdown",
   "metadata": {},
   "source": [
    "Nun können wir den Arrayinhalt ausgeben:"
   ]
  },
  {
   "cell_type": "code",
   "execution_count": 3,
   "metadata": {},
   "outputs": [
    {
     "name": "stdout",
     "output_type": "stream",
     "text": [
      "[1 2 3 4 5 ]\n"
     ]
    },
    {
     "data": {
      "text/plain": [
       "null"
      ]
     },
     "execution_count": 3,
     "metadata": {},
     "output_type": "execute_result"
    }
   ],
   "source": [
    "int[] b = {1, 2, 3, 4, 5};\n",
    "ArrayHelpers.printArray(b);"
   ]
  },
  {
   "cell_type": "markdown",
   "metadata": {},
   "source": [
    "Die nächste Überraschung erleben wir die Objekte auf Gleichheit überprüfen. Dazu erstellen wir uns zuerst ein Objekt mit identischem Inhalt:"
   ]
  },
  {
   "cell_type": "code",
   "execution_count": 4,
   "metadata": {},
   "outputs": [
    {
     "name": "stdout",
     "output_type": "stream",
     "text": [
      "false\n"
     ]
    },
    {
     "data": {
      "text/plain": [
       "null"
      ]
     },
     "execution_count": 4,
     "metadata": {},
     "output_type": "execute_result"
    }
   ],
   "source": [
    "int[] a = {1, 2, 3};\n",
    "int[] b = {1, 2, 3};\n",
    "System.out.println(a == b);"
   ]
  },
  {
   "cell_type": "markdown",
   "metadata": {},
   "source": [
    "Auch die Zuweisung verhält sich nicht genau so wie bei den primitiven Datentypen, wie das folgende Beispiel zeigt:"
   ]
  },
  {
   "cell_type": "code",
   "execution_count": 5,
   "metadata": {},
   "outputs": [
    {
     "name": "stdout",
     "output_type": "stream",
     "text": [
      "a: [1 2 3 ]\n",
      "c: [1 2 3 ]\n",
      "c: [1 99 3 ]\n"
     ]
    },
    {
     "data": {
      "text/plain": [
       "null"
      ]
     },
     "execution_count": 5,
     "metadata": {},
     "output_type": "execute_result"
    }
   ],
   "source": [
    "int[] a = {1, 2, 3};\n",
    "System.out.print(\"a: \"); ArrayHelpers.printArray(a);\n",
    "int[] c = a;\n",
    "System.out.print(\"c: \");  ArrayHelpers.printArray(c);\n",
    "a[1] = 99;\n",
    "System.out.print(\"c: \"); ArrayHelpers.printArray(c);"
   ]
  },
  {
   "cell_type": "markdown",
   "metadata": {},
   "source": [
    "#### Miniübung\n",
    "\n",
    "* Erklären Sie das beobachtete Verhalten.\n",
    "* Schreiben Sie eine Methode die die Arrays richtig auf Gleichheit überprüft. Wiederholen Sie dann das obige Experiment, indem Sie aber Ihre Methode zum Testen auf Gleichheit nutzen.\n",
    "* Schreiben sie eine Methode, welche als Argument ein Array entgegennimmt und dieses kopiert. Wiederholen Sie dann das obige Experiment, indem Sie statt der Zuweisung Ihre Kopierfunktion nutzen."
   ]
  },
  {
   "cell_type": "code",
   "execution_count": 19,
   "metadata": {},
   "outputs": [
    {
     "data": {
      "text/plain": [
       "com.twosigma.beaker.javash.bkrb653ecdf.ArrayHelpers"
      ]
     },
     "execution_count": 19,
     "metadata": {},
     "output_type": "execute_result"
    }
   ],
   "source": [
    "class ArrayHelpers {\n",
    "    static void printArray(int[] a) { \n",
    "        System.out.print(\"[\");\n",
    "        for (int i = 0; i < a.length; i++) {\n",
    "            System.out.print(a[i]);\n",
    "            System.out.print(\" \");\n",
    "        }\n",
    "        System.out.println(\"]\");\n",
    "    }\n",
    "    \n",
    "    static boolean arrayEquals(int[] a, int[] b) {\n",
    "        \n",
    "        if (a.length != b.length) {\n",
    "            return false;\n",
    "        }\n",
    "        \n",
    "        for (int i = 0; i < a.length; i++) {\n",
    "            \n",
    "            if (a[i] != b[i]) {\n",
    "                return false;\n",
    "            }\n",
    "        }\n",
    "        return true;\n",
    "    }\n",
    "    \n",
    "    static int[] copyArray(int[] a) {\n",
    "        int[] copy = new int[a.length];\n",
    "        for (int i = 0; i < a.length; i++) {\n",
    "            copy[i] = a[i];\n",
    "        }\n",
    "        return copy;\n",
    "    }\n",
    "    \n",
    "}"
   ]
  },
  {
   "cell_type": "code",
   "execution_count": 26,
   "metadata": {},
   "outputs": [
    {
     "name": "stdout",
     "output_type": "stream",
     "text": [
      "[1 2 3 ]\n"
     ]
    },
    {
     "data": {
      "text/plain": [
       "null"
      ]
     },
     "execution_count": 26,
     "metadata": {},
     "output_type": "execute_result"
    }
   ],
   "source": [
    "int[] a = {1,2,3};\n",
    "int[] b = {1, 2, 3};\n",
    "int[] c = ArrayHelpers.copyArray(b);\n",
    "b[1] = 99;\n",
    "ArrayHelpers.printArray(c);"
   ]
  },
  {
   "cell_type": "markdown",
   "metadata": {},
   "source": [
    "## Suchen in Arrays"
   ]
  },
  {
   "cell_type": "markdown",
   "metadata": {},
   "source": [
    "Eine Operation die in vielen Anwendungen benötigt wird ist das Suchen von Elementen im Array. \n",
    "Naiv können wir das wie folgt implementieren: Wir laufen einfach durch alle Elemente und überprüfen, ob das Element dem gesuchten Element entspricht. Wenn das Element nicht gefunden wird, wird ```-1``` zurückgegeben."
   ]
  },
  {
   "cell_type": "code",
   "execution_count": null,
   "metadata": {},
   "outputs": [],
   "source": [
    "\n",
    "// gibt Position oder -1 aus wenn nicht gefunden. \n",
    "class Search {\n",
    "    static int findNaive(int[] haystack, int needle) {\n",
    "        int pos = haystack.length - 1;\n",
    "        while (pos >= 0 && haystack[pos] != needle) {\n",
    "            pos = pos - 1;\n",
    "        }\n",
    "        return pos;\n",
    "    }\n",
    "}"
   ]
  },
  {
   "cell_type": "code",
   "execution_count": null,
   "metadata": {},
   "outputs": [],
   "source": [
    "int[] b = {1, 3, 7, 11};\n",
    "int pos = Search.findNaive(b, 12);\n",
    "System.out.println(\"found element at position \" +pos);"
   ]
  },
  {
   "cell_type": "markdown",
   "metadata": {},
   "source": [
    "#### Miniübung\n",
    "\n",
    "* Weshalb geben wir ```-1``` und nicht etwa ```0``` oder ```99999999``` zurück wenn nichts gefunden wird?\n",
    "* Was ist der Vorteil wenn wir den Code von hinten nach vorne (also beginnend mit dem grössten Index) durchlaufen?"
   ]
  },
  {
   "cell_type": "markdown",
   "metadata": {},
   "source": [
    "#### Binäre Suche\n",
    "\n",
    "Eine intelligentere Suche ist möglich, wenn wir wissen, dass die Elemente im Array bereits sortiert sind. Der bestmögliche Algorithmus ist in diesem Fall die *binäre Suche*.\n",
    "\n",
    "*Hinweis: Siehe Vorlesungsfolien für weitere Erläuterungen zum Algorithmus*"
   ]
  },
  {
   "cell_type": "code",
   "execution_count": null,
   "metadata": {},
   "outputs": [],
   "source": [
    "class Search {\n",
    "    static int binarySearch(int[] haystack, int needle) {\n",
    "        // requirement: elements in haystack must be sorted\n",
    "        int low = 0;\n",
    "        int hi = haystack.length -1 ;\n",
    "\n",
    "        while (hi >= low) {\n",
    "            int mid = low + (hi - low) / 2;\n",
    "            if (needle > haystack[mid]) {\n",
    "                low = mid + 1;\n",
    "            } else if(needle < haystack[mid]) {\n",
    "                hi = mid - 1;\n",
    "            } else {\n",
    "                return mid;\n",
    "            }\n",
    "        }\n",
    "\n",
    "        return -1;\n",
    "    }\n",
    "}"
   ]
  },
  {
   "cell_type": "code",
   "execution_count": null,
   "metadata": {},
   "outputs": [],
   "source": [
    "int[] b = {1, 3, 7, 11};\n",
    "int pos = Search.binarySearch(b, 3);\n",
    "System.out.println(\"found element at position \" +pos);"
   ]
  },
  {
   "cell_type": "markdown",
   "metadata": {},
   "source": [
    "#### Miniübung\n",
    "* Fügen Sie Ausgaben an geeigneten Stellen hinzu um zu verstehen, wie dieser Algorithmus funktioniert. \n",
    "* Was passiert, wenn die Elemente nicht sortiert sind?\n",
    "* Zählen Sie die Anzahl der Vergleichsoperationen die Sie für beide Algorithmen brauchen, indem Sie einen entsprechenden Zähler einfügen. Testen Sie die beiden Algorithmen mit einem Array der Grösse ```n```, welches die Zahlen $1$ bis $n$ in aufsteigender Reihenfolge enthält. \n",
    " \n",
    "\n"
   ]
  },
  {
   "cell_type": "code",
   "execution_count": 11,
   "metadata": {},
   "outputs": [
    {
     "data": {
      "text/plain": [
       "com.twosigma.beaker.javash.bkr2c9bec44.Search"
      ]
     },
     "execution_count": 11,
     "metadata": {},
     "output_type": "execute_result"
    }
   ],
   "source": [
    "class Search {\n",
    "    static int binarySearch(int[] haystack, int needle) {\n",
    "        // requirement: elements in haystack must be sorted\n",
    "        int low = 0;\n",
    "        int hi = haystack.length -1 ;\n",
    "\n",
    "        int numComparisons = 0;\n",
    "        \n",
    "        while (hi >= low) {\n",
    "            int mid = low + (hi - low) / 2;\n",
    "            \n",
    "            numComparisons += 1;\n",
    "            if (needle > haystack[mid]) {\n",
    "                low = mid + 1;\n",
    "            } else if(needle < haystack[mid]) {\n",
    "                hi = mid - 1;\n",
    "            } else {\n",
    "                System.out.println(\"number of comparison in binary search \" +numComparisons);                \n",
    "                return mid;\n",
    "            }\n",
    "        }\n",
    "        System.out.println(\"number of comparison in binary search \" +numComparisons);\n",
    "        return -1;\n",
    "    }\n",
    "    \n",
    "     static int findNaive(int[] haystack, int needle) {\n",
    "        int pos = haystack.length - 1;\n",
    "        int numComparisons = 0;\n",
    "        while (pos >= 0 && haystack[pos] != needle) {\n",
    "            pos = pos - 1;\n",
    "            numComparisons += 1;\n",
    "        }\n",
    "        System.out.println(\"number of comparison in findNaive \" +numComparisons);\n",
    "        return pos;\n",
    "    }\n",
    "}"
   ]
  },
  {
   "cell_type": "code",
   "execution_count": 13,
   "metadata": {},
   "outputs": [
    {
     "name": "stdout",
     "output_type": "stream",
     "text": [
      "number of comparison in binary search 10\n",
      "number of comparison in findNaive 996\n"
     ]
    },
    {
     "data": {
      "text/plain": [
       "null"
      ]
     },
     "execution_count": 13,
     "metadata": {},
     "output_type": "execute_result"
    }
   ],
   "source": [
    "int n = 1000;\n",
    "\n",
    "// Grosses Array Initialisieren\n",
    "int[] b = new int[n];\n",
    "for (int i = 0; i < n; i++) {\n",
    "    b[i] = i;\n",
    "}\n",
    "\n",
    "Search.binarySearch(b, 3);\n",
    "Search.findNaive(b, 3);"
   ]
  },
  {
   "cell_type": "code",
   "execution_count": null,
   "metadata": {},
   "outputs": [],
   "source": []
  }
 ],
 "metadata": {
  "kernelspec": {
   "display_name": "Java",
   "language": "java",
   "name": "java"
  },
  "language_info": {
   "codemirror_mode": "text/x-java",
   "file_extension": ".java",
   "mimetype": "",
   "name": "Java",
   "nbconverter_exporter": "",
   "version": "1.8.0_121"
  },
  "toc": {
   "base_numbering": 1,
   "nav_menu": {},
   "number_sections": false,
   "sideBar": false,
   "skip_h1_title": false,
   "title_cell": "Table of Contents",
   "title_sidebar": "Contents",
   "toc_cell": false,
   "toc_position": {},
   "toc_section_display": false,
   "toc_window_display": false
  }
 },
 "nbformat": 4,
 "nbformat_minor": 2
}
